{
  "nbformat": 4,
  "nbformat_minor": 0,
  "metadata": {
    "colab": {
      "provenance": [],
      "include_colab_link": true
    },
    "kernelspec": {
      "name": "python3",
      "display_name": "Python 3"
    },
    "language_info": {
      "name": "python"
    }
  },
  "cells": [
    {
      "cell_type": "markdown",
      "metadata": {
        "id": "view-in-github",
        "colab_type": "text"
      },
      "source": [
        "<a href=\"https://colab.research.google.com/github/maryosunaa/maryosunaa.github.io/blob/main/Notebooks/Chap07/7_3_Initialization.ipynb\" target=\"_parent\"><img src=\"https://colab.research.google.com/assets/colab-badge.svg\" alt=\"Open In Colab\"/></a>"
      ]
    },
    {
      "cell_type": "markdown",
      "source": [
        "# **Notebook 7.3: Initialization**\n",
        "\n",
        "This notebook explores weight initialization in deep neural networks as described in section 7.5 of the book.\n",
        "\n",
        "Work through the cells below, running each cell in turn. In various places you will see the words \"TODO\". Follow the instructions at these places and make predictions about what is going to happen or write code to complete the functions.\n",
        "\n",
        "Contact me at udlbookmail@gmail.com if you find any mistakes or have any suggestions."
      ],
      "metadata": {
        "id": "L6chybAVFJW2"
      }
    },
    {
      "cell_type": "code",
      "execution_count": 1,
      "metadata": {
        "id": "LdIDglk1FFcG"
      },
      "outputs": [],
      "source": [
        "import numpy as np\n",
        "import matplotlib.pyplot as plt"
      ]
    },
    {
      "cell_type": "markdown",
      "source": [
        "First let's define a neural network.  We'll just choose the weights and biases randomly for now"
      ],
      "metadata": {
        "id": "nnUoI0m6GyjC"
      }
    },
    {
      "cell_type": "code",
      "source": [
        "def init_params(K, D, sigma_sq_omega):\n",
        "  # Set seed so we always get the same random numbers\n",
        "  np.random.seed(0)\n",
        "\n",
        "  # Input layer\n",
        "  D_i = 1\n",
        "  # Output layer\n",
        "  D_o = 1\n",
        "\n",
        "  # Make empty lists\n",
        "  all_weights = [None] * (K+1)\n",
        "  all_biases = [None] * (K+1)\n",
        "\n",
        "  # Create input and output layers\n",
        "  all_weights[0] = np.random.normal(size=(D, D_i))*np.sqrt(sigma_sq_omega)\n",
        "  all_weights[-1] = np.random.normal(size=(D_o, D)) * np.sqrt(sigma_sq_omega)\n",
        "  all_biases[0] = np.zeros((D,1))\n",
        "  all_biases[-1]= np.zeros((D_o,1))\n",
        "\n",
        "  # Create intermediate layers\n",
        "  for layer in range(1,K):\n",
        "    all_weights[layer] = np.random.normal(size=(D,D))*np.sqrt(sigma_sq_omega)\n",
        "    all_biases[layer] = np.zeros((D,1))\n",
        "\n",
        "  return all_weights, all_biases"
      ],
      "metadata": {
        "id": "WVM4Tc_jGI0Q"
      },
      "execution_count": 2,
      "outputs": []
    },
    {
      "cell_type": "code",
      "source": [
        "# Define the Rectified Linear Unit (ReLU) function\n",
        "def ReLU(preactivation):\n",
        "  activation = preactivation.clip(0.0)\n",
        "  return activation"
      ],
      "metadata": {
        "id": "jZh-7bPXIDq4"
      },
      "execution_count": 3,
      "outputs": []
    },
    {
      "cell_type": "code",
      "source": [
        "def compute_network_output(net_input, all_weights, all_biases):\n",
        "\n",
        "  # Retrieve number of layers\n",
        "  K = len(all_weights)-1\n",
        "\n",
        "  # We'll store the pre-activations at each layer in a list \"all_f\"\n",
        "  # and the activations in a second list \"all_h\".\n",
        "  all_f = [None] * (K+1)\n",
        "  all_h = [None] * (K+1)\n",
        "\n",
        "  #For convenience, we'll set\n",
        "  # all_h[0] to be the input, and all_f[K] will be the output\n",
        "  all_h[0] = net_input\n",
        "\n",
        "  # Run through the layers, calculating all_f[0...K-1] and all_h[1...K]\n",
        "  for layer in range(K):\n",
        "      # Update preactivations and activations at this layer according to eqn 7.5\n",
        "      all_f[layer] = all_biases[layer] + np.matmul(all_weights[layer], all_h[layer])\n",
        "      all_h[layer+1] = ReLU(all_f[layer])\n",
        "\n",
        "  # Compute the output from the last hidden layer\n",
        "  all_f[K] = all_biases[K] + np.matmul(all_weights[K], all_h[K])\n",
        "\n",
        "  # Retrieve the output\n",
        "  net_output = all_f[K]\n",
        "\n",
        "  return net_output, all_f, all_h"
      ],
      "metadata": {
        "id": "LgquJUJvJPaN"
      },
      "execution_count": 4,
      "outputs": []
    },
    {
      "cell_type": "markdown",
      "source": [
        "Now let's investigate how the size of the outputs vary as we change the initialization variance:\n"
      ],
      "metadata": {
        "id": "bIUrcXnOqChl"
      }
    },
    {
      "cell_type": "code",
      "source": [
        "# Number of layers\n",
        "K = 5\n",
        "# Number of neurons per layer\n",
        "D = 8\n",
        "# Input layer\n",
        "D_i = 1\n",
        "# Output layer\n",
        "D_o = 1\n",
        "# Set variance of initial weights to 1\n",
        "sigma_sq_omega = 1.0\n",
        "# Initialize parameters\n",
        "all_weights, all_biases = init_params(K,D,sigma_sq_omega)\n",
        "\n",
        "n_data = 1000\n",
        "data_in = np.random.normal(size=(1,n_data))\n",
        "net_output, all_f, all_h = compute_network_output(data_in, all_weights, all_biases)\n",
        "\n",
        "for layer in range(1,K+1):\n",
        "  print(\"Layer %d, std of hidden units = %3.3f\"%(layer, np.std(all_h[layer])))"
      ],
      "metadata": {
        "id": "A55z3rKBqO7M",
        "outputId": "796e7a68-a163-4bab-adb2-cb7075c84976",
        "colab": {
          "base_uri": "https://localhost:8080/"
        }
      },
      "execution_count": 5,
      "outputs": [
        {
          "output_type": "stream",
          "name": "stdout",
          "text": [
            "Layer 1, std of hidden units = 0.811\n",
            "Layer 2, std of hidden units = 1.472\n",
            "Layer 3, std of hidden units = 4.547\n",
            "Layer 4, std of hidden units = 8.896\n",
            "Layer 5, std of hidden units = 10.106\n"
          ]
        }
      ]
    },
    {
      "cell_type": "code",
      "source": [
        "# You can see that the values of the hidden units are increasing on average (the variance is across all hidden units at the layer\n",
        "# and the 1000 training examples\n",
        "\n",
        "# TODO\n",
        "# Change this to 50 layers with 80 hidden units per layer\n",
        "\n",
        "# TODO\n",
        "# Now experiment with sigma_sq_omega to try to stop the variance of the forward computation exploding"
      ],
      "metadata": {
        "id": "VL_SO4tar3DC"
      },
      "execution_count": 14,
      "outputs": []
    },
    {
      "cell_type": "code",
      "source": [
        "##Cambiamos ahora a 50 capas y 80 unidades ocultas por capa\n",
        "\n",
        "# Number of layers\n",
        "K = 50\n",
        "# Number of neurons per layer\n",
        "D = 80\n",
        "# Input layer\n",
        "D_i = 1\n",
        "# Output layer\n",
        "D_o = 1\n",
        "# Set variance of initial weights to 1\n",
        "sigma_sq_omega = 1.0\n",
        "# Initialize parameters\n",
        "all_weights, all_biases = init_params(K,D,sigma_sq_omega)\n",
        "\n",
        "n_data = 1000\n",
        "data_in = np.random.normal(size=(1,n_data))\n",
        "net_output, all_f, all_h = compute_network_output(data_in, all_weights, all_biases)\n",
        "\n",
        "for layer in range(1,K+1):\n",
        "  print(\"Layer %d, std of hidden units = %3.3f\"%(layer, np.std(all_h[layer])))"
      ],
      "metadata": {
        "id": "mP36fii-oRA-",
        "outputId": "e85734f7-6ff9-4ed4-9907-9cf56502ceb2",
        "colab": {
          "base_uri": "https://localhost:8080/"
        }
      },
      "execution_count": 13,
      "outputs": [
        {
          "output_type": "stream",
          "name": "stdout",
          "text": [
            "Layer 1, std of hidden units = 0.622\n",
            "Layer 2, std of hidden units = 3.108\n",
            "Layer 3, std of hidden units = 21.075\n",
            "Layer 4, std of hidden units = 161.638\n",
            "Layer 5, std of hidden units = 1125.582\n",
            "Layer 6, std of hidden units = 6319.072\n",
            "Layer 7, std of hidden units = 37275.665\n",
            "Layer 8, std of hidden units = 243387.814\n",
            "Layer 9, std of hidden units = 1339835.231\n",
            "Layer 10, std of hidden units = 7366234.399\n",
            "Layer 11, std of hidden units = 49006173.785\n",
            "Layer 12, std of hidden units = 272845366.658\n",
            "Layer 13, std of hidden units = 1682043584.115\n",
            "Layer 14, std of hidden units = 10666632256.715\n",
            "Layer 15, std of hidden units = 66098343304.232\n",
            "Layer 16, std of hidden units = 429669007251.536\n",
            "Layer 17, std of hidden units = 2889209957356.916\n",
            "Layer 18, std of hidden units = 19621779417283.500\n",
            "Layer 19, std of hidden units = 121787762396578.969\n",
            "Layer 20, std of hidden units = 999886829483868.875\n",
            "Layer 21, std of hidden units = 5334411928004679.000\n",
            "Layer 22, std of hidden units = 33827620837739412.000\n",
            "Layer 23, std of hidden units = 225444894681278176.000\n",
            "Layer 24, std of hidden units = 1627820610460267776.000\n",
            "Layer 25, std of hidden units = 11267764649765797888.000\n",
            "Layer 26, std of hidden units = 67624804921841573888.000\n",
            "Layer 27, std of hidden units = 364972590784171016192.000\n",
            "Layer 28, std of hidden units = 2240665662851632070656.000\n",
            "Layer 29, std of hidden units = 17591855121671590510592.000\n",
            "Layer 30, std of hidden units = 127571735900692099891200.000\n",
            "Layer 31, std of hidden units = 673191222755367401291776.000\n",
            "Layer 32, std of hidden units = 3013965906952738308096000.000\n",
            "Layer 33, std of hidden units = 18058080219374336341966848.000\n",
            "Layer 34, std of hidden units = 113844343088523883136942080.000\n",
            "Layer 35, std of hidden units = 743768651021983614777688064.000\n",
            "Layer 36, std of hidden units = 4212183983909334019905421312.000\n",
            "Layer 37, std of hidden units = 29165435896872114952769372160.000\n",
            "Layer 38, std of hidden units = 158335947919997755737983942656.000\n",
            "Layer 39, std of hidden units = 997715185910698111272413560832.000\n",
            "Layer 40, std of hidden units = 6426783972194130038049969537024.000\n",
            "Layer 41, std of hidden units = 43768309206637147921539531800576.000\n",
            "Layer 42, std of hidden units = 303487129329508551216341155053568.000\n",
            "Layer 43, std of hidden units = 1776138313453572474864744603320320.000\n",
            "Layer 44, std of hidden units = 11908465022449954960409252809670656.000\n",
            "Layer 45, std of hidden units = 89231570537681377058251182172012544.000\n",
            "Layer 46, std of hidden units = 537142295281509613087075230529093632.000\n",
            "Layer 47, std of hidden units = 3598219068834594188168289796459855872.000\n",
            "Layer 48, std of hidden units = 19195733181303612908140446019993206784.000\n",
            "Layer 49, std of hidden units = 112209168636519545406961012606813339648.000\n",
            "Layer 50, std of hidden units = 753218502856424628936041819469258948608.000\n"
          ]
        }
      ]
    },
    {
      "cell_type": "markdown",
      "source": [
        "Con la inicialización de pesos sigma_sq_omega = 1.0, la varianza (y por tanto la desviación estándar) de las activaciones crece muy rápido con cada capa de la red, lo cuál genera el *problema de activaciones explosivas* (*exploding activations*) que se comenta en el libro **Understanding Deep Learning, Simon Prince, Capítulo 7, Sección 7.5**, donde los valores se vuelven tan grandes que hacen que el entrenamiento sea inestable e imposible en términos numéricos. Sin una inicialización correcta, las redes profundas no se pueden entrenar correctamente."
      ],
      "metadata": {
        "id": "sa_xtSMtskxb"
      }
    },
    {
      "cell_type": "code",
      "source": [
        "##Experimentamos con el valor de sigma_sq_omega para evitar que la varianza \"explote\"\n",
        "\n",
        "# Number of layers\n",
        "K = 50\n",
        "# Number of neurons per layer\n",
        "D = 80\n",
        "# Input layer\n",
        "D_i = 1\n",
        "# Output layer\n",
        "D_o = 1\n",
        "# Set variance of initial weights to 1\n",
        "sigma_sq_omega = 2 / D ##Es la fórmula para la Inicialización de He, descrita en la 110 del libro Understanding Deep Learning\n",
        "# Initialize parameters\n",
        "all_weights, all_biases = init_params(K,D,sigma_sq_omega)\n",
        "\n",
        "n_data = 1000\n",
        "data_in = np.random.normal(size=(1,n_data))\n",
        "net_output, all_f, all_h = compute_network_output(data_in, all_weights, all_biases)\n",
        "\n",
        "for layer in range(1,K+1):\n",
        "  print(\"Layer %d, std of hidden units = %3.3f\"%(layer, np.std(all_h[layer])))"
      ],
      "metadata": {
        "id": "sQQsQZ4tpEEQ",
        "outputId": "0c3119f3-e265-439e-9370-a6da93324274",
        "colab": {
          "base_uri": "https://localhost:8080/"
        }
      },
      "execution_count": 9,
      "outputs": [
        {
          "output_type": "stream",
          "name": "stdout",
          "text": [
            "Layer 1, std of hidden units = 0.098\n",
            "Layer 2, std of hidden units = 0.078\n",
            "Layer 3, std of hidden units = 0.083\n",
            "Layer 4, std of hidden units = 0.101\n",
            "Layer 5, std of hidden units = 0.111\n",
            "Layer 6, std of hidden units = 0.099\n",
            "Layer 7, std of hidden units = 0.092\n",
            "Layer 8, std of hidden units = 0.095\n",
            "Layer 9, std of hidden units = 0.083\n",
            "Layer 10, std of hidden units = 0.072\n",
            "Layer 11, std of hidden units = 0.076\n",
            "Layer 12, std of hidden units = 0.067\n",
            "Layer 13, std of hidden units = 0.065\n",
            "Layer 14, std of hidden units = 0.065\n",
            "Layer 15, std of hidden units = 0.064\n",
            "Layer 16, std of hidden units = 0.066\n",
            "Layer 17, std of hidden units = 0.070\n",
            "Layer 18, std of hidden units = 0.075\n",
            "Layer 19, std of hidden units = 0.073\n",
            "Layer 20, std of hidden units = 0.095\n",
            "Layer 21, std of hidden units = 0.080\n",
            "Layer 22, std of hidden units = 0.081\n",
            "Layer 23, std of hidden units = 0.085\n",
            "Layer 24, std of hidden units = 0.097\n",
            "Layer 25, std of hidden units = 0.106\n",
            "Layer 26, std of hidden units = 0.101\n",
            "Layer 27, std of hidden units = 0.086\n",
            "Layer 28, std of hidden units = 0.083\n",
            "Layer 29, std of hidden units = 0.104\n",
            "Layer 30, std of hidden units = 0.119\n",
            "Layer 31, std of hidden units = 0.099\n",
            "Layer 32, std of hidden units = 0.070\n",
            "Layer 33, std of hidden units = 0.066\n",
            "Layer 34, std of hidden units = 0.066\n",
            "Layer 35, std of hidden units = 0.068\n",
            "Layer 36, std of hidden units = 0.061\n",
            "Layer 37, std of hidden units = 0.067\n",
            "Layer 38, std of hidden units = 0.058\n",
            "Layer 39, std of hidden units = 0.057\n",
            "Layer 40, std of hidden units = 0.058\n",
            "Layer 41, std of hidden units = 0.063\n",
            "Layer 42, std of hidden units = 0.069\n",
            "Layer 43, std of hidden units = 0.064\n",
            "Layer 44, std of hidden units = 0.068\n",
            "Layer 45, std of hidden units = 0.080\n",
            "Layer 46, std of hidden units = 0.076\n",
            "Layer 47, std of hidden units = 0.081\n",
            "Layer 48, std of hidden units = 0.068\n",
            "Layer 49, std of hidden units = 0.063\n",
            "Layer 50, std of hidden units = 0.067\n"
          ]
        }
      ]
    },
    {
      "cell_type": "markdown",
      "source": [
        "Como se ve, la desviación estándar de las unidades ocultas se mantiene mucho más estable a través de las 50 capas, y permanece cercana a su valor inicial en lugar de *explotar* a números grandes."
      ],
      "metadata": {
        "id": "U2tIIjhM4z2R"
      }
    },
    {
      "cell_type": "markdown",
      "source": [
        "**Fórmula de Inicialización de He**\n",
        "\n",
        "Tiene como objetivo hacer que la varianza de las activaciones se mantenga constante a medida que pasa por cada capa de la red. En este caso,\n",
        "\n",
        "*   Cada neurona en una capa suma D entradas ponderadas de la capa anterior, y para evitar que la magnitud de la salida crezca con el número de entradas, la varianza de los pesos debe ser inversamente proporcional a D (por eso se hace **1 / D**).\n",
        "\n",
        "*   El factor 2 por el que estamos multiplicando el 1 / D compensa el efecto de la función de activación ReLU ya que ésta anula todos los valores negativos y reduce en promedio la varianza. Para contrarrestar ésto y mantener la varianza estable, se debe multiplicar la varianza de los pesos por 2.\n",
        "\n",
        "**Lo siguiente se encuentra en la página 110 del libro Understanding Deep Learning**\n",
        "\n",
        "![image.png](data:image/png;base64,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)"
      ],
      "metadata": {
        "id": "VFJWYwfQ5IXd"
      }
    },
    {
      "cell_type": "markdown",
      "source": [
        "Now let's define a loss function.  We'll just use the least squares loss function. We'll also write a function to compute dloss_doutput\n"
      ],
      "metadata": {
        "id": "SxVTKp3IcoBF"
      }
    },
    {
      "cell_type": "code",
      "source": [
        "def least_squares_loss(net_output, y):\n",
        "  return np.sum((net_output-y) * (net_output-y))\n",
        "\n",
        "def d_loss_d_output(net_output, y):\n",
        "    return 2*(net_output -y);"
      ],
      "metadata": {
        "id": "6XqWSYWJdhQR"
      },
      "execution_count": 10,
      "outputs": []
    },
    {
      "cell_type": "markdown",
      "source": [
        "Here's the code for the backward pass"
      ],
      "metadata": {
        "id": "98WmyqFYWA-0"
      }
    },
    {
      "cell_type": "code",
      "source": [
        "# We'll need the indicator function\n",
        "def indicator_function(x):\n",
        "  x_in = np.array(x)\n",
        "  x_in[x_in>=0] = 1\n",
        "  x_in[x_in<0] = 0\n",
        "  return x_in\n",
        "\n",
        "# Main backward pass routine\n",
        "def backward_pass(all_weights, all_biases, all_f, all_h, y):\n",
        "  # Retrieve number of layers\n",
        "  K = len(all_weights) - 1\n",
        "\n",
        "  # We'll store the derivatives dl_dweights and dl_dbiases in lists as well\n",
        "  all_dl_dweights = [None] * (K+1)\n",
        "  all_dl_dbiases = [None] * (K+1)\n",
        "  # And we'll store the derivatives of the loss with respect to the activation and preactivations in lists\n",
        "  all_dl_df = [None] * (K+1)\n",
        "  all_dl_dh = [None] * (K+1)\n",
        "  # Again for convenience we'll stick with the convention that all_h[0] is the net input and all_f[k] in the net output\n",
        "\n",
        "  # Compute derivatives of net output with respect to loss\n",
        "  all_dl_df[K] = np.array(d_loss_d_output(all_f[K],y))\n",
        "\n",
        "  # Now work backwards through the network\n",
        "  for layer in range(K,-1,-1):\n",
        "    # Calculate the derivatives of biases at layer from all_dl_df[K]. (eq 7.13, line 1)\n",
        "    all_dl_dbiases[layer] = np.array(all_dl_df[layer])\n",
        "    # Calculate the derivatives of weight at layer from all_dl_df[K] and all_h[K] (eq 7.13, line 2)\n",
        "    all_dl_dweights[layer] = np.matmul(all_dl_df[layer], all_h[layer].transpose())\n",
        "\n",
        "    # Calculate the derivatives of activations from weight and derivatives of next preactivations (eq 7.13, line 3 second part)\n",
        "    all_dl_dh[layer] = np.matmul(all_weights[layer].transpose(), all_dl_df[layer])\n",
        "    # Calculate the derivatives of the pre-activation f with respect to activation h (eq 7.13, line 3, first part)\n",
        "    if layer > 0:\n",
        "      all_dl_df[layer-1] = indicator_function(all_f[layer-1]) * all_dl_dh[layer]\n",
        "\n",
        "  return all_dl_dweights, all_dl_dbiases, all_dl_dh, all_dl_df"
      ],
      "metadata": {
        "id": "LJng7WpRPLMz"
      },
      "execution_count": 11,
      "outputs": []
    },
    {
      "cell_type": "markdown",
      "source": [
        "Now let's look at what happens to the magnitude of the gradients on the way back."
      ],
      "metadata": {
        "id": "phFnbthqwhFi"
      }
    },
    {
      "cell_type": "code",
      "source": [
        "# Number of layers\n",
        "K = 5\n",
        "# Number of neurons per layer\n",
        "D = 8\n",
        "# Input layer\n",
        "D_i = 1\n",
        "# Output layer\n",
        "D_o = 1\n",
        "# Set variance of initial weights to 1\n",
        "sigma_sq_omega = 1.0\n",
        "# Initialize parameters\n",
        "all_weights, all_biases = init_params(K,D,sigma_sq_omega)\n",
        "\n",
        "# For simplicity we'll just consider the gradients of the weights and biases between the first and last hidden layer\n",
        "n_data = 100\n",
        "aggregate_dl_df = [None] * (K+1)\n",
        "for layer in range(1,K):\n",
        "  # These 3D arrays will store the gradients for every data point\n",
        "  aggregate_dl_df[layer] = np.zeros((D,n_data))\n",
        "\n",
        "\n",
        "# We'll have to compute the derivatives of the parameters for each data point separately\n",
        "for c_data in range(n_data):\n",
        "  data_in = np.random.normal(size=(1,1))\n",
        "  y = np.zeros((1,1))\n",
        "  net_output, all_f, all_h = compute_network_output(data_in, all_weights, all_biases)\n",
        "  all_dl_dweights, all_dl_dbiases, all_dl_dh, all_dl_df = backward_pass(all_weights, all_biases, all_f, all_h, y)\n",
        "  for layer in range(1,K):\n",
        "    aggregate_dl_df[layer][:,c_data] = np.squeeze(all_dl_df[layer])\n",
        "\n",
        "for layer in range(1,K):\n",
        "  print(\"Layer %d, std of dl_dh = %3.3f\"%(layer, np.std(aggregate_dl_df[layer].ravel())))\n"
      ],
      "metadata": {
        "id": "9A9MHc4sQvbp",
        "outputId": "8fa8ad1b-0c3c-4086-9666-e7d5e2746b99",
        "colab": {
          "base_uri": "https://localhost:8080/"
        }
      },
      "execution_count": 12,
      "outputs": [
        {
          "output_type": "stream",
          "name": "stdout",
          "text": [
            "Layer 1, std of dl_dh = 446.654\n",
            "Layer 2, std of dl_dh = 340.657\n",
            "Layer 3, std of dl_dh = 109.132\n",
            "Layer 4, std of dl_dh = 56.472\n"
          ]
        }
      ]
    },
    {
      "cell_type": "code",
      "source": [
        "# You can see that the gradients of the hidden units are increasing on average (the standard deviation is across all hidden units at the layer\n",
        "# and the 100 training examples\n",
        "\n",
        "# TODO\n",
        "# Change this to 50 layers with 80 hidden units per layer\n",
        "\n",
        "# TODO\n",
        "# Now experiment with sigma_sq_omega to try to stop the variance of the gradients exploding\n"
      ],
      "metadata": {
        "id": "gtokc0VX0839"
      },
      "execution_count": 16,
      "outputs": []
    },
    {
      "cell_type": "code",
      "source": [
        "##Cambiamos ahora a 50 capas y 80 unidades ocultas por capa\n",
        "\n",
        "# Number of layers\n",
        "K = 50\n",
        "# Number of neurons per layer\n",
        "D = 80\n",
        "# Input layer\n",
        "D_i = 1\n",
        "# Output layer\n",
        "D_o = 1\n",
        "# Set variance of initial weights to 1\n",
        "sigma_sq_omega = 1.0\n",
        "# Initialize parameters\n",
        "all_weights, all_biases = init_params(K,D,sigma_sq_omega)\n",
        "\n",
        "# For simplicity we'll just consider the gradients of the weights and biases between the first and last hidden layer\n",
        "n_data = 100\n",
        "aggregate_dl_df = [None] * (K+1)\n",
        "for layer in range(1,K):\n",
        "  # These 3D arrays will store the gradients for every data point\n",
        "  aggregate_dl_df[layer] = np.zeros((D,n_data))\n",
        "\n",
        "\n",
        "# We'll have to compute the derivatives of the parameters for each data point separately\n",
        "for c_data in range(n_data):\n",
        "  data_in = np.random.normal(size=(1,1))\n",
        "  y = np.zeros((1,1))\n",
        "  net_output, all_f, all_h = compute_network_output(data_in, all_weights, all_biases)\n",
        "  all_dl_dweights, all_dl_dbiases, all_dl_dh, all_dl_df = backward_pass(all_weights, all_biases, all_f, all_h, y)\n",
        "  for layer in range(1,K):\n",
        "    aggregate_dl_df[layer][:,c_data] = np.squeeze(all_dl_df[layer])\n",
        "\n",
        "for layer in range(1,K):\n",
        "  print(\"Layer %d, std of dl_dh = %3.3f\"%(layer, np.std(aggregate_dl_df[layer].ravel())))\n"
      ],
      "metadata": {
        "id": "wCiM3WYt7Mub",
        "outputId": "ea4296ba-7d9b-4c7e-e73d-02b9944f7229",
        "colab": {
          "base_uri": "https://localhost:8080/"
        }
      },
      "execution_count": 17,
      "outputs": [
        {
          "output_type": "stream",
          "name": "stdout",
          "text": [
            "Layer 1, std of dl_dh = 3864161615668244381461267510373904423054174106385627368088294218476908925943808.000\n",
            "Layer 2, std of dl_dh = 644297462740804713442581900026680633808249992732441097572021950434417515167744.000\n",
            "Layer 3, std of dl_dh = 116256578506420949530034836693026278332620775906201422909563657755039975342080.000\n",
            "Layer 4, std of dl_dh = 18012406883088290574820624800592506146677260025062386448774316977284251123712.000\n",
            "Layer 5, std of dl_dh = 2657382923492155237517743551772839757190473680951583847484196418047631687680.000\n",
            "Layer 6, std of dl_dh = 437115574218245193807908837898776765075349933300781174644617597538000699392.000\n",
            "Layer 7, std of dl_dh = 72289425689022383694959922502133948966481633180885036698402715526890520576.000\n",
            "Layer 8, std of dl_dh = 10229045579369877059893160585567011515114230101645934741607603021463683072.000\n",
            "Layer 9, std of dl_dh = 1622769590787357221165998426801933037786842056906651889376730795250548736.000\n",
            "Layer 10, std of dl_dh = 291677266860870437780232576190188443241514488697868118675201045020278784.000\n",
            "Layer 11, std of dl_dh = 47040925004825710092577350412895155453321563697526018504489216478543872.000\n",
            "Layer 12, std of dl_dh = 7477794785556511029375003658625364545843316026986261679990214882230272.000\n",
            "Layer 13, std of dl_dh = 1079960630998983249752166647771489546517745439258609007782338718859264.000\n",
            "Layer 14, std of dl_dh = 177343205970746323022535267612975334749257408015264898871563036655616.000\n",
            "Layer 15, std of dl_dh = 29375585020824601862634145389942297584964020572455193261493213724672.000\n",
            "Layer 16, std of dl_dh = 4228152175740393840420430907377032438398605544578239798569609461760.000\n",
            "Layer 17, std of dl_dh = 571601369784794895910562631031416171904392915902935598268120301568.000\n",
            "Layer 18, std of dl_dh = 91625806080021443266251793730777964254284721650597171089696096256.000\n",
            "Layer 19, std of dl_dh = 12981649213666814009051399416069478713914622789141796222322868224.000\n",
            "Layer 20, std of dl_dh = 2521931090077676164675708087308560164602781204488721344485130240.000\n",
            "Layer 21, std of dl_dh = 366590511153710277626208122273738805797073624696981250776236032.000\n",
            "Layer 22, std of dl_dh = 51359326687770703173098879471924704121751805248612732145500160.000\n",
            "Layer 23, std of dl_dh = 8400447047412215957163620697461761172837457898324451376758784.000\n",
            "Layer 24, std of dl_dh = 1167175082942496259171991237990073050542486732428288230162432.000\n",
            "Layer 25, std of dl_dh = 189303733379321820949917225330147038267659861123596728401920.000\n",
            "Layer 26, std of dl_dh = 41712815717105567582202429915066996391791998114458492731392.000\n",
            "Layer 27, std of dl_dh = 5462460278894732059145534135797162339003953001623145414656.000\n",
            "Layer 28, std of dl_dh = 956779985561020140674147027633381199677921770355854147584.000\n",
            "Layer 29, std of dl_dh = 163553513870808583520322854044457808217847000530386157568.000\n",
            "Layer 30, std of dl_dh = 27962097471983042838261328844134491112183619548352610304.000\n",
            "Layer 31, std of dl_dh = 4533651840178384461262480437643334259175029047440703488.000\n",
            "Layer 32, std of dl_dh = 692775722996451558577043031371608601967229693599940608.000\n",
            "Layer 33, std of dl_dh = 115846381203838787394170905633539747898124137758982144.000\n",
            "Layer 34, std of dl_dh = 20622026877096516274168395047672140496941939104415744.000\n",
            "Layer 35, std of dl_dh = 3038521358601097647024950608360837004079382839427072.000\n",
            "Layer 36, std of dl_dh = 486644995502083127708682788488469787451507406274560.000\n",
            "Layer 37, std of dl_dh = 67762952239536214087718500711727746678730564567040.000\n",
            "Layer 38, std of dl_dh = 10332488588890049713609937944320962320259371499520.000\n",
            "Layer 39, std of dl_dh = 1461454311950454403604998671601501964603523858432.000\n",
            "Layer 40, std of dl_dh = 258241445087590735643133194351627983599477719040.000\n",
            "Layer 41, std of dl_dh = 40450451143651943003846240257711296490539843584.000\n",
            "Layer 42, std of dl_dh = 7712581729931043277499507203257816560634429440.000\n",
            "Layer 43, std of dl_dh = 1336239794865748202433384835430338808200036352.000\n",
            "Layer 44, std of dl_dh = 231495044789922145345902695211142088107229184.000\n",
            "Layer 45, std of dl_dh = 39500717745074507415666617946744126827397120.000\n",
            "Layer 46, std of dl_dh = 5987633018620222014740819955864148595703808.000\n",
            "Layer 47, std of dl_dh = 966020560711593611954353793080976121790464.000\n",
            "Layer 48, std of dl_dh = 140118487856732220476770152623959995056128.000\n",
            "Layer 49, std of dl_dh = 18817849764518896023941902245604242751488.000\n"
          ]
        }
      ]
    },
    {
      "cell_type": "markdown",
      "source": [
        "De forma similar al *problema* anterior, los resultados anteriores muestran el *problema del gradiente explosivo* (*exploding gradient problem*): así como las activaciones explotaron en el cálculo hacia adelante (forward pass), la magnitud de los gradientes también crecen muy rápido durante la retropropagación (backward pass) cuando la red es profunda y la inicialización de los pesos no es la mejor, por lo que las actualizaciones de los parámetros se vuelven muy grandes e inestables, impidiendo que el modelo pueda aprender correctamente."
      ],
      "metadata": {
        "id": "5-oMwobu8Vdh"
      }
    },
    {
      "cell_type": "code",
      "source": [
        "##Experimentamos con el valor de sigma_sq_omega para evitar que la varianza de los gradientes \"explote\"\n",
        "\n",
        "# Number of layers\n",
        "K = 50\n",
        "# Number of neurons per layer\n",
        "D = 80\n",
        "# Input layer\n",
        "D_i = 1\n",
        "# Output layer\n",
        "D_o = 1\n",
        "# Set variance of initial weights to 1\n",
        "sigma_sq_omega = 2 / D ##Es la fórmula para la Inicialización de He, descrita en la 110 del libro Understanding Deep Learning\n",
        "# Initialize parameters\n",
        "all_weights, all_biases = init_params(K,D,sigma_sq_omega)\n",
        "\n",
        "# For simplicity we'll just consider the gradients of the weights and biases between the first and last hidden layer\n",
        "n_data = 100\n",
        "aggregate_dl_df = [None] * (K+1)\n",
        "for layer in range(1,K):\n",
        "  # These 3D arrays will store the gradients for every data point\n",
        "  aggregate_dl_df[layer] = np.zeros((D,n_data))\n",
        "\n",
        "# We'll have to compute the derivatives of the parameters for each data point separately\n",
        "for c_data in range(n_data):\n",
        "  data_in = np.random.normal(size=(1,1))\n",
        "  y = np.zeros((1,1))\n",
        "  net_output, all_f, all_h = compute_network_output(data_in, all_weights, all_biases)\n",
        "  all_dl_dweights, all_dl_dbiases, all_dl_dh, all_dl_df = backward_pass(all_weights, all_biases, all_f, all_h, y)\n",
        "  for layer in range(1,K):\n",
        "    aggregate_dl_df[layer][:,c_data] = np.squeeze(all_dl_df[layer])\n",
        "\n",
        "for layer in range(1,K):\n",
        "  print(\"Layer %d, std of dl_dh = %3.3f\"%(layer, np.std(aggregate_dl_df[layer].ravel())))"
      ],
      "metadata": {
        "id": "xcpw-R2d9q-E",
        "outputId": "60ba031a-a343-49b5-ff19-30847f4c66ef",
        "colab": {
          "base_uri": "https://localhost:8080/"
        }
      },
      "execution_count": 19,
      "outputs": [
        {
          "output_type": "stream",
          "name": "stdout",
          "text": [
            "Layer 1, std of dl_dh = 0.030\n",
            "Layer 2, std of dl_dh = 0.032\n",
            "Layer 3, std of dl_dh = 0.037\n",
            "Layer 4, std of dl_dh = 0.036\n",
            "Layer 5, std of dl_dh = 0.034\n",
            "Layer 6, std of dl_dh = 0.035\n",
            "Layer 7, std of dl_dh = 0.036\n",
            "Layer 8, std of dl_dh = 0.033\n",
            "Layer 9, std of dl_dh = 0.033\n",
            "Layer 10, std of dl_dh = 0.037\n",
            "Layer 11, std of dl_dh = 0.038\n",
            "Layer 12, std of dl_dh = 0.038\n",
            "Layer 13, std of dl_dh = 0.035\n",
            "Layer 14, std of dl_dh = 0.036\n",
            "Layer 15, std of dl_dh = 0.038\n",
            "Layer 16, std of dl_dh = 0.035\n",
            "Layer 17, std of dl_dh = 0.030\n",
            "Layer 18, std of dl_dh = 0.030\n",
            "Layer 19, std of dl_dh = 0.027\n",
            "Layer 20, std of dl_dh = 0.033\n",
            "Layer 21, std of dl_dh = 0.030\n",
            "Layer 22, std of dl_dh = 0.027\n",
            "Layer 23, std of dl_dh = 0.028\n",
            "Layer 24, std of dl_dh = 0.024\n",
            "Layer 25, std of dl_dh = 0.025\n",
            "Layer 26, std of dl_dh = 0.035\n",
            "Layer 27, std of dl_dh = 0.029\n",
            "Layer 28, std of dl_dh = 0.032\n",
            "Layer 29, std of dl_dh = 0.035\n",
            "Layer 30, std of dl_dh = 0.037\n",
            "Layer 31, std of dl_dh = 0.038\n",
            "Layer 32, std of dl_dh = 0.037\n",
            "Layer 33, std of dl_dh = 0.039\n",
            "Layer 34, std of dl_dh = 0.044\n",
            "Layer 35, std of dl_dh = 0.041\n",
            "Layer 36, std of dl_dh = 0.042\n",
            "Layer 37, std of dl_dh = 0.037\n",
            "Layer 38, std of dl_dh = 0.035\n",
            "Layer 39, std of dl_dh = 0.032\n",
            "Layer 40, std of dl_dh = 0.035\n",
            "Layer 41, std of dl_dh = 0.035\n",
            "Layer 42, std of dl_dh = 0.042\n",
            "Layer 43, std of dl_dh = 0.046\n",
            "Layer 44, std of dl_dh = 0.051\n",
            "Layer 45, std of dl_dh = 0.055\n",
            "Layer 46, std of dl_dh = 0.053\n",
            "Layer 47, std of dl_dh = 0.054\n",
            "Layer 48, std of dl_dh = 0.049\n",
            "Layer 49, std of dl_dh = 0.042\n"
          ]
        }
      ]
    },
    {
      "cell_type": "markdown",
      "source": [
        "Como se ve, la desviación estándar de los gradientes en cada capa se mantiene en valores pequeños y estables, en lugar de explotar a números muy grandes. Al igual que antes, al utilizar la *Inicialización de He* (sigma_sq_omega = 2 / D) se previene el problema del gradiente explosivo. Por lo tanto, una inicialización de pesos correcta es la clave que logra estabilizar tanto el \"forward pass\" (las activaciones) como el \"backward pass\" (los gradientes) simultáneamente, lo que permite el entrenamiento correcto de redes neuronales muy profundas como ésta."
      ],
      "metadata": {
        "id": "F8zHEHrU-6Rg"
      }
    }
  ]
}