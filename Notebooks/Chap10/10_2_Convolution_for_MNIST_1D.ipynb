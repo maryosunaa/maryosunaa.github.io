{
  "nbformat": 4,
  "nbformat_minor": 0,
  "metadata": {
    "colab": {
      "provenance": [],
      "include_colab_link": true
    },
    "kernelspec": {
      "name": "python3",
      "display_name": "Python 3"
    },
    "language_info": {
      "name": "python"
    }
  },
  "cells": [
    {
      "cell_type": "markdown",
      "metadata": {
        "id": "view-in-github",
        "colab_type": "text"
      },
      "source": [
        "<a href=\"https://colab.research.google.com/github/maryosunaa/maryosunaa.github.io/blob/main/Notebooks/Chap10/10_2_Convolution_for_MNIST_1D.ipynb\" target=\"_parent\"><img src=\"https://colab.research.google.com/assets/colab-badge.svg\" alt=\"Open In Colab\"/></a>"
      ]
    },
    {
      "cell_type": "markdown",
      "source": [
        "# **Notebook 10.2: Convolution for MNIST-1D**\n",
        "\n",
        "This notebook investigates a 1D convolutional network for MNIST-1D as in figure 10.7 and 10.8a.\n",
        "\n",
        "Work through the cells below, running each cell in turn. In various places you will see the words \"TODO\". Follow the instructions at these places and make predictions about what is going to happen or write code to complete the functions.\n",
        "\n",
        "Contact me at udlbookmail@gmail.com if you find any mistakes or have any suggestions.\n",
        "\n"
      ],
      "metadata": {
        "id": "t9vk9Elugvmi"
      }
    },
    {
      "cell_type": "code",
      "source": [
        "# Run this if you're in a Colab to install MNIST 1D repository\n",
        "!pip install git+https://github.com/greydanus/mnist1d"
      ],
      "metadata": {
        "id": "D5yLObtZCi9J",
        "colab": {
          "base_uri": "https://localhost:8080/"
        },
        "outputId": "bab81caa-414c-489b-d75c-27e1af4da9dc"
      },
      "execution_count": 1,
      "outputs": [
        {
          "output_type": "stream",
          "name": "stdout",
          "text": [
            "Collecting git+https://github.com/greydanus/mnist1d\n",
            "  Cloning https://github.com/greydanus/mnist1d to /tmp/pip-req-build-flg3cwfk\n",
            "  Running command git clone --filter=blob:none --quiet https://github.com/greydanus/mnist1d /tmp/pip-req-build-flg3cwfk\n",
            "  Resolved https://github.com/greydanus/mnist1d to commit 7878d96082abd200c546a07a4101fa90b30fdf7e\n",
            "  Installing build dependencies ... \u001b[?25l\u001b[?25hdone\n",
            "  Getting requirements to build wheel ... \u001b[?25l\u001b[?25hdone\n",
            "  Preparing metadata (pyproject.toml) ... \u001b[?25l\u001b[?25hdone\n",
            "Requirement already satisfied: requests in /usr/local/lib/python3.11/dist-packages (from mnist1d==0.0.2.post16) (2.32.3)\n",
            "Requirement already satisfied: numpy in /usr/local/lib/python3.11/dist-packages (from mnist1d==0.0.2.post16) (2.0.2)\n",
            "Requirement already satisfied: matplotlib in /usr/local/lib/python3.11/dist-packages (from mnist1d==0.0.2.post16) (3.10.0)\n",
            "Requirement already satisfied: scipy in /usr/local/lib/python3.11/dist-packages (from mnist1d==0.0.2.post16) (1.15.3)\n",
            "Requirement already satisfied: contourpy>=1.0.1 in /usr/local/lib/python3.11/dist-packages (from matplotlib->mnist1d==0.0.2.post16) (1.3.2)\n",
            "Requirement already satisfied: cycler>=0.10 in /usr/local/lib/python3.11/dist-packages (from matplotlib->mnist1d==0.0.2.post16) (0.12.1)\n",
            "Requirement already satisfied: fonttools>=4.22.0 in /usr/local/lib/python3.11/dist-packages (from matplotlib->mnist1d==0.0.2.post16) (4.58.5)\n",
            "Requirement already satisfied: kiwisolver>=1.3.1 in /usr/local/lib/python3.11/dist-packages (from matplotlib->mnist1d==0.0.2.post16) (1.4.8)\n",
            "Requirement already satisfied: packaging>=20.0 in /usr/local/lib/python3.11/dist-packages (from matplotlib->mnist1d==0.0.2.post16) (25.0)\n",
            "Requirement already satisfied: pillow>=8 in /usr/local/lib/python3.11/dist-packages (from matplotlib->mnist1d==0.0.2.post16) (11.2.1)\n",
            "Requirement already satisfied: pyparsing>=2.3.1 in /usr/local/lib/python3.11/dist-packages (from matplotlib->mnist1d==0.0.2.post16) (3.2.3)\n",
            "Requirement already satisfied: python-dateutil>=2.7 in /usr/local/lib/python3.11/dist-packages (from matplotlib->mnist1d==0.0.2.post16) (2.9.0.post0)\n",
            "Requirement already satisfied: charset-normalizer<4,>=2 in /usr/local/lib/python3.11/dist-packages (from requests->mnist1d==0.0.2.post16) (3.4.2)\n",
            "Requirement already satisfied: idna<4,>=2.5 in /usr/local/lib/python3.11/dist-packages (from requests->mnist1d==0.0.2.post16) (3.10)\n",
            "Requirement already satisfied: urllib3<3,>=1.21.1 in /usr/local/lib/python3.11/dist-packages (from requests->mnist1d==0.0.2.post16) (2.4.0)\n",
            "Requirement already satisfied: certifi>=2017.4.17 in /usr/local/lib/python3.11/dist-packages (from requests->mnist1d==0.0.2.post16) (2025.7.14)\n",
            "Requirement already satisfied: six>=1.5 in /usr/local/lib/python3.11/dist-packages (from python-dateutil>=2.7->matplotlib->mnist1d==0.0.2.post16) (1.17.0)\n",
            "Building wheels for collected packages: mnist1d\n",
            "  Building wheel for mnist1d (pyproject.toml) ... \u001b[?25l\u001b[?25hdone\n",
            "  Created wheel for mnist1d: filename=mnist1d-0.0.2.post16-py3-none-any.whl size=14665 sha256=33660c7cdb03e823edbe5c31d1fb926c502e63b7858a88855f55dba8e6143382\n",
            "  Stored in directory: /tmp/pip-ephem-wheel-cache-wx9aq4qk/wheels/d6/38/42/3d2112bc7d915f6195254ac85eb761d922d1b18f52817aa8e2\n",
            "Successfully built mnist1d\n",
            "Installing collected packages: mnist1d\n",
            "Successfully installed mnist1d-0.0.2.post16\n"
          ]
        }
      ]
    },
    {
      "cell_type": "code",
      "source": [
        "import numpy as np\n",
        "import os\n",
        "import torch, torch.nn as nn\n",
        "from torch.utils.data import TensorDataset, DataLoader\n",
        "from torch.optim.lr_scheduler import StepLR\n",
        "import matplotlib.pyplot as plt\n",
        "import mnist1d\n",
        "import random"
      ],
      "metadata": {
        "id": "YrXWAH7sUWvU"
      },
      "execution_count": 2,
      "outputs": []
    },
    {
      "cell_type": "code",
      "source": [
        "args = mnist1d.data.get_dataset_args()\n",
        "data = mnist1d.data.get_dataset(args, path='./mnist1d_data.pkl', download=False, regenerate=False)\n",
        "\n",
        "# The training and test input and outputs are in\n",
        "# data['x'], data['y'], data['x_test'], and data['y_test']\n",
        "print(\"Examples in training set: {}\".format(len(data['y'])))\n",
        "print(\"Examples in test set: {}\".format(len(data['y_test'])))\n",
        "print(\"Length of each example: {}\".format(data['x'].shape[-1]))"
      ],
      "metadata": {
        "id": "twI72ZCrCt5z",
        "colab": {
          "base_uri": "https://localhost:8080/"
        },
        "outputId": "d798ba9a-07ab-4577-c430-aab87ebc6566"
      },
      "execution_count": 3,
      "outputs": [
        {
          "output_type": "stream",
          "name": "stdout",
          "text": [
            "Did or could not load data from ./mnist1d_data.pkl. Rebuilding dataset...\n",
            "Examples in training set: 4000\n",
            "Examples in test set: 1000\n",
            "Length of each example: 40\n"
          ]
        }
      ]
    },
    {
      "cell_type": "code",
      "source": [
        "# Load in the data\n",
        "train_data_x = data['x'].transpose()\n",
        "train_data_y = data['y']\n",
        "val_data_x = data['x_test'].transpose()\n",
        "val_data_y = data['y_test']\n",
        "# Print out sizes\n",
        "print(\"Train data: %d examples (columns), each of which has %d dimensions (rows)\"%((train_data_x.shape[1],train_data_x.shape[0])))\n",
        "print(\"Validation data: %d examples (columns), each of which has %d dimensions (rows)\"%((val_data_x.shape[1],val_data_x.shape[0])))"
      ],
      "metadata": {
        "id": "8bKADvLHbiV5",
        "colab": {
          "base_uri": "https://localhost:8080/"
        },
        "outputId": "f7ae6039-a5c9-471d-8e0d-72882c8b32ba"
      },
      "execution_count": 4,
      "outputs": [
        {
          "output_type": "stream",
          "name": "stdout",
          "text": [
            "Train data: 4000 examples (columns), each of which has 40 dimensions (rows)\n",
            "Validation data: 1000 examples (columns), each of which has 40 dimensions (rows)\n"
          ]
        }
      ]
    },
    {
      "cell_type": "markdown",
      "source": [
        "Define the network"
      ],
      "metadata": {
        "id": "_sFvRDGrl4qe"
      }
    },
    {
      "cell_type": "code",
      "source": [
        "# There are 40 input dimensions and 10 output dimensions for this data\n",
        "# The inputs correspond to the 40 offsets in the MNIST1D template.\n",
        "D_i = 40\n",
        "# The outputs correspond to the 10 digits\n",
        "D_o = 10\n",
        "\n",
        "\n",
        "# TODO Create a model with the following layers\n",
        "# 1. Convolutional layer, (input=length 40 and 1 channel, kernel size 3, stride 2, padding=\"valid\", 15 output channels )\n",
        "# 2. ReLU\n",
        "# 3. Convolutional layer, (input=length 19 and 15 channels, kernel size 3, stride 2, padding=\"valid\", 15 output channels )\n",
        "# 4. ReLU\n",
        "# 5. Convolutional layer, (input=length 9 and 15 channels, kernel size 3, stride 2, padding=\"valid\", 15 output channels)\n",
        "# 6. ReLU\n",
        "# 7. Flatten (converts 4x15) to length 60\n",
        "# 8. Linear layer (input size = 60, output size = 10)\n",
        "# References:\n",
        "# https://pytorch.org/docs/1.13/generated/torch.nn.Conv1d.html?highlight=conv1d#torch.nn.Conv1d\n",
        "# https://pytorch.org/docs/stable/generated/torch.nn.Flatten.html\n",
        "# https://pytorch.org/docs/1.13/generated/torch.nn.Linear.html?highlight=linear#torch.nn.Linear\n",
        "\n",
        "# NOTE THAT THE CONVOLUTIONAL LAYERS NEED TO TAKE THE NUMBER OF INPUT CHANNELS AS A PARAMETER\n",
        "# AND NOT THE INPUT SIZE.\n",
        "\n",
        "# Replace the following function:\n",
        "#Comentamos las siguientes líneas de código erróneas\n",
        "#model = nn.Sequential(\n",
        "#nn.Flatten(),\n",
        "#nn.Linear(40, 100),\n",
        "#nn.ReLU(),\n",
        "#nn.Linear(100, 100),\n",
        "#nn.ReLU(),\n",
        "#nn.Linear(100, 10))\n",
        "\n",
        "model = nn.Sequential(\n",
        "    #Establecemos la primera capa convolucional con 1 canal de entrada, 15 de salida, kernel 3, stride 2\n",
        "    nn.Conv1d(in_channels=1, out_channels=15, kernel_size=3, stride=2),\n",
        "    #La función de activación es la ReLU\n",
        "    nn.ReLU(),\n",
        "    #Establecemos la segunda capa convolucional con 15 canales de entrada, 15 de salida, kernel 3, stride 2\n",
        "    nn.Conv1d(in_channels=15, out_channels=15, kernel_size=3, stride=2),\n",
        "    #Función de activación ReLU\n",
        "    nn.ReLU(),\n",
        "    #Establecemos la tercera capa convolucional con 15 canales de entrada, 15 de salida, kernel 3, stride 2\n",
        "    nn.Conv1d(in_channels=15, out_channels=15, kernel_size=3, stride=2),\n",
        "    #Función de activación ReLU\n",
        "    nn.ReLU(),\n",
        "    #Etsablecemos la capa de aplanamiento que convierte la salida 3D (el batch, los canales y la longitud) en 2D (el batch y las features)\n",
        "    nn.Flatten(),\n",
        "    #Establecemos la capa lineal totalmente conectada con 60 entradas (15 canales x 4 de longitud), 10 salidas (las clases)\n",
        "    nn.Linear(in_features=60, out_features=10))"
      ],
      "metadata": {
        "id": "FslroPJJffrh"
      },
      "execution_count": 5,
      "outputs": []
    },
    {
      "cell_type": "code",
      "source": [
        "# He initialization of weights\n",
        "def weights_init(layer_in):\n",
        "  if isinstance(layer_in, nn.Linear):\n",
        "    nn.init.kaiming_uniform_(layer_in.weight)\n",
        "    layer_in.bias.data.fill_(0.0)"
      ],
      "metadata": {
        "id": "YgLaex1pfhqz"
      },
      "execution_count": 6,
      "outputs": []
    },
    {
      "cell_type": "code",
      "source": [
        "# choose cross entropy loss function (equation 5.24 in the loss notes)\n",
        "loss_function = nn.CrossEntropyLoss()\n",
        "# construct SGD optimizer and initialize learning rate and momentum\n",
        "optimizer = torch.optim.SGD(model.parameters(), lr = 0.05, momentum=0.9)\n",
        "# object that decreases learning rate by half every 20 epochs\n",
        "scheduler = StepLR(optimizer, step_size=20, gamma=0.5)\n",
        "# create 100 dummy data points and store in data loader class\n",
        "x_train = torch.tensor(train_data_x.transpose().astype('float32'))\n",
        "y_train = torch.tensor(train_data_y.astype('long')).long()\n",
        "x_val= torch.tensor(val_data_x.transpose().astype('float32'))\n",
        "y_val = torch.tensor(val_data_y.astype('long')).long()\n",
        "\n",
        "# load the data into a class that creates the batches\n",
        "data_loader = DataLoader(TensorDataset(x_train,y_train), batch_size=100, shuffle=True, worker_init_fn=np.random.seed(1))\n",
        "\n",
        "# Initialize model weights\n",
        "model.apply(weights_init)\n",
        "\n",
        "# loop over the dataset n_epoch times\n",
        "n_epoch = 100\n",
        "# store the loss and the % correct at each epoch\n",
        "losses_train = np.zeros((n_epoch))\n",
        "errors_train = np.zeros((n_epoch))\n",
        "losses_val = np.zeros((n_epoch))\n",
        "errors_val = np.zeros((n_epoch))\n",
        "\n",
        "for epoch in range(n_epoch):\n",
        "  # loop over batches\n",
        "  for i, data in enumerate(data_loader):\n",
        "    # retrieve inputs and labels for this batch\n",
        "    x_batch, y_batch = data\n",
        "    # zero the parameter gradients\n",
        "    optimizer.zero_grad()\n",
        "    # forward pass -- calculate model output\n",
        "    pred = model(x_batch[:,None,:])\n",
        "    # compute the loss\n",
        "    loss = loss_function(pred, y_batch)\n",
        "    # backward pass\n",
        "    loss.backward()\n",
        "    # SGD update\n",
        "    optimizer.step()\n",
        "\n",
        "  # Run whole dataset to get statistics -- normally wouldn't do this\n",
        "  pred_train = model(x_train[:,None,:])\n",
        "  pred_val = model(x_val[:,None,:])\n",
        "  _, predicted_train_class = torch.max(pred_train.data, 1)\n",
        "  _, predicted_val_class = torch.max(pred_val.data, 1)\n",
        "  errors_train[epoch] = 100 - 100 * (predicted_train_class == y_train).float().sum() / len(y_train)\n",
        "  errors_val[epoch]= 100 - 100 * (predicted_val_class == y_val).float().sum() / len(y_val)\n",
        "  losses_train[epoch] = loss_function(pred_train, y_train).item()\n",
        "  losses_val[epoch]= loss_function(pred_val, y_val).item()\n",
        "  print(f'Epoch {epoch:5d}, train loss {losses_train[epoch]:.6f}, train error {errors_train[epoch]:3.2f},  val loss {losses_val[epoch]:.6f}, percent error {errors_val[epoch]:3.2f}')\n",
        "\n",
        "  # tell scheduler to consider updating learning rate\n",
        "  scheduler.step()\n",
        "\n",
        "# Plot the results\n",
        "fig, ax = plt.subplots()\n",
        "ax.plot(errors_train,'r-',label='train')\n",
        "ax.plot(errors_val,'b-',label='validation')\n",
        "ax.set_ylim(0,100); ax.set_xlim(0,n_epoch)\n",
        "ax.set_xlabel('Epoch'); ax.set_ylabel('Error')\n",
        "ax.set_title('Part I: Validation Result %3.2f'%(errors_val[-1]))\n",
        "ax.legend()\n",
        "plt.show()"
      ],
      "metadata": {
        "id": "NYw8I_3mmX5c",
        "colab": {
          "base_uri": "https://localhost:8080/",
          "height": 1000
        },
        "outputId": "10417ed6-07c9-4fff-876d-1b1ff625aeb8"
      },
      "execution_count": 7,
      "outputs": [
        {
          "output_type": "stream",
          "name": "stdout",
          "text": [
            "Epoch     0, train loss 2.128436, train error 75.40,  val loss 2.148914, percent error 76.50\n",
            "Epoch     1, train loss 1.564878, train error 61.28,  val loss 1.586341, percent error 66.40\n",
            "Epoch     2, train loss 1.357702, train error 54.53,  val loss 1.362109, percent error 58.20\n",
            "Epoch     3, train loss 1.357968, train error 53.92,  val loss 1.401812, percent error 58.00\n",
            "Epoch     4, train loss 1.250678, train error 48.17,  val loss 1.288683, percent error 50.60\n",
            "Epoch     5, train loss 1.124053, train error 45.90,  val loss 1.182588, percent error 49.30\n",
            "Epoch     6, train loss 1.017016, train error 40.05,  val loss 1.068599, percent error 44.90\n",
            "Epoch     7, train loss 0.936183, train error 36.65,  val loss 0.997643, percent error 42.60\n",
            "Epoch     8, train loss 0.854565, train error 34.38,  val loss 0.946621, percent error 38.00\n",
            "Epoch     9, train loss 0.814213, train error 32.53,  val loss 0.904771, percent error 36.20\n",
            "Epoch    10, train loss 0.764072, train error 31.85,  val loss 0.854589, percent error 34.10\n",
            "Epoch    11, train loss 0.655031, train error 25.20,  val loss 0.723654, percent error 28.80\n",
            "Epoch    12, train loss 0.592739, train error 22.50,  val loss 0.679744, percent error 26.30\n",
            "Epoch    13, train loss 0.538961, train error 19.47,  val loss 0.625781, percent error 22.20\n",
            "Epoch    14, train loss 0.506196, train error 19.75,  val loss 0.596274, percent error 23.50\n",
            "Epoch    15, train loss 0.525059, train error 20.82,  val loss 0.635709, percent error 21.70\n",
            "Epoch    16, train loss 0.406444, train error 15.80,  val loss 0.526244, percent error 19.20\n",
            "Epoch    17, train loss 0.407868, train error 15.57,  val loss 0.498035, percent error 19.60\n",
            "Epoch    18, train loss 0.397050, train error 14.80,  val loss 0.503942, percent error 18.00\n",
            "Epoch    19, train loss 0.321464, train error 12.05,  val loss 0.459601, percent error 17.80\n",
            "Epoch    20, train loss 0.258470, train error 9.47,  val loss 0.401655, percent error 14.20\n",
            "Epoch    21, train loss 0.251249, train error 9.50,  val loss 0.411338, percent error 14.60\n",
            "Epoch    22, train loss 0.241274, train error 9.10,  val loss 0.414045, percent error 14.70\n",
            "Epoch    23, train loss 0.229842, train error 8.85,  val loss 0.404119, percent error 14.20\n",
            "Epoch    24, train loss 0.248088, train error 9.15,  val loss 0.424077, percent error 14.30\n",
            "Epoch    25, train loss 0.198974, train error 7.12,  val loss 0.374195, percent error 12.60\n",
            "Epoch    26, train loss 0.203464, train error 7.40,  val loss 0.396187, percent error 13.70\n",
            "Epoch    27, train loss 0.212122, train error 7.78,  val loss 0.418679, percent error 12.10\n",
            "Epoch    28, train loss 0.181964, train error 6.15,  val loss 0.379932, percent error 11.20\n",
            "Epoch    29, train loss 0.183187, train error 6.50,  val loss 0.401222, percent error 12.30\n",
            "Epoch    30, train loss 0.160636, train error 5.60,  val loss 0.390037, percent error 12.20\n",
            "Epoch    31, train loss 0.229863, train error 8.68,  val loss 0.468052, percent error 13.80\n",
            "Epoch    32, train loss 0.155202, train error 5.47,  val loss 0.361706, percent error 10.50\n",
            "Epoch    33, train loss 0.171869, train error 5.72,  val loss 0.390265, percent error 11.90\n",
            "Epoch    34, train loss 0.136192, train error 4.53,  val loss 0.365279, percent error 10.20\n",
            "Epoch    35, train loss 0.129323, train error 4.22,  val loss 0.386525, percent error 11.20\n",
            "Epoch    36, train loss 0.133651, train error 4.32,  val loss 0.402730, percent error 12.30\n",
            "Epoch    37, train loss 0.123791, train error 4.03,  val loss 0.369306, percent error 10.30\n",
            "Epoch    38, train loss 0.138994, train error 4.95,  val loss 0.424842, percent error 11.10\n",
            "Epoch    39, train loss 0.219599, train error 8.95,  val loss 0.487477, percent error 13.90\n",
            "Epoch    40, train loss 0.114990, train error 3.95,  val loss 0.384679, percent error 10.40\n",
            "Epoch    41, train loss 0.091340, train error 2.57,  val loss 0.351532, percent error 9.10\n",
            "Epoch    42, train loss 0.092064, train error 2.68,  val loss 0.367588, percent error 10.00\n",
            "Epoch    43, train loss 0.092566, train error 2.90,  val loss 0.391535, percent error 10.60\n",
            "Epoch    44, train loss 0.093580, train error 2.88,  val loss 0.396702, percent error 9.90\n",
            "Epoch    45, train loss 0.080195, train error 2.18,  val loss 0.380457, percent error 9.80\n",
            "Epoch    46, train loss 0.079220, train error 2.22,  val loss 0.380013, percent error 9.90\n",
            "Epoch    47, train loss 0.076430, train error 2.07,  val loss 0.379723, percent error 9.60\n",
            "Epoch    48, train loss 0.075076, train error 2.00,  val loss 0.389701, percent error 10.10\n",
            "Epoch    49, train loss 0.073983, train error 2.20,  val loss 0.388244, percent error 10.30\n",
            "Epoch    50, train loss 0.075125, train error 2.22,  val loss 0.401559, percent error 10.60\n",
            "Epoch    51, train loss 0.070834, train error 2.07,  val loss 0.388258, percent error 10.30\n",
            "Epoch    52, train loss 0.073448, train error 2.32,  val loss 0.410342, percent error 9.90\n",
            "Epoch    53, train loss 0.077331, train error 2.40,  val loss 0.414716, percent error 10.90\n",
            "Epoch    54, train loss 0.065844, train error 1.80,  val loss 0.392106, percent error 9.90\n",
            "Epoch    55, train loss 0.072535, train error 2.15,  val loss 0.407134, percent error 9.70\n",
            "Epoch    56, train loss 0.067035, train error 2.00,  val loss 0.417451, percent error 10.50\n",
            "Epoch    57, train loss 0.064752, train error 1.72,  val loss 0.398851, percent error 9.00\n",
            "Epoch    58, train loss 0.060924, train error 1.60,  val loss 0.396628, percent error 10.30\n",
            "Epoch    59, train loss 0.058280, train error 1.55,  val loss 0.395678, percent error 9.50\n",
            "Epoch    60, train loss 0.054759, train error 1.35,  val loss 0.396527, percent error 9.80\n",
            "Epoch    61, train loss 0.054111, train error 1.43,  val loss 0.402149, percent error 9.50\n",
            "Epoch    62, train loss 0.054554, train error 1.35,  val loss 0.403730, percent error 9.70\n",
            "Epoch    63, train loss 0.053015, train error 1.35,  val loss 0.401299, percent error 9.40\n",
            "Epoch    64, train loss 0.053054, train error 1.35,  val loss 0.407429, percent error 9.70\n",
            "Epoch    65, train loss 0.051651, train error 1.28,  val loss 0.411930, percent error 9.30\n",
            "Epoch    66, train loss 0.051644, train error 1.35,  val loss 0.407420, percent error 9.50\n",
            "Epoch    67, train loss 0.050569, train error 1.15,  val loss 0.413069, percent error 9.50\n",
            "Epoch    68, train loss 0.049703, train error 1.28,  val loss 0.411261, percent error 9.30\n",
            "Epoch    69, train loss 0.051045, train error 1.28,  val loss 0.418445, percent error 9.20\n",
            "Epoch    70, train loss 0.048098, train error 1.12,  val loss 0.410656, percent error 9.40\n",
            "Epoch    71, train loss 0.049018, train error 1.00,  val loss 0.422633, percent error 9.70\n",
            "Epoch    72, train loss 0.047834, train error 1.10,  val loss 0.416871, percent error 9.80\n",
            "Epoch    73, train loss 0.048235, train error 1.12,  val loss 0.420272, percent error 9.30\n",
            "Epoch    74, train loss 0.046511, train error 1.05,  val loss 0.422455, percent error 10.10\n",
            "Epoch    75, train loss 0.047312, train error 1.12,  val loss 0.421013, percent error 9.70\n",
            "Epoch    76, train loss 0.045465, train error 0.90,  val loss 0.425552, percent error 9.30\n",
            "Epoch    77, train loss 0.045463, train error 1.00,  val loss 0.421513, percent error 9.50\n",
            "Epoch    78, train loss 0.046415, train error 1.05,  val loss 0.436805, percent error 9.50\n",
            "Epoch    79, train loss 0.046755, train error 1.10,  val loss 0.431776, percent error 10.20\n",
            "Epoch    80, train loss 0.043597, train error 0.97,  val loss 0.428998, percent error 9.90\n",
            "Epoch    81, train loss 0.042367, train error 0.95,  val loss 0.428182, percent error 9.80\n",
            "Epoch    82, train loss 0.042442, train error 0.93,  val loss 0.427472, percent error 9.40\n",
            "Epoch    83, train loss 0.042051, train error 0.88,  val loss 0.427283, percent error 9.90\n",
            "Epoch    84, train loss 0.041640, train error 0.82,  val loss 0.432564, percent error 9.60\n",
            "Epoch    85, train loss 0.041353, train error 0.80,  val loss 0.431132, percent error 9.40\n",
            "Epoch    86, train loss 0.041435, train error 0.95,  val loss 0.430667, percent error 9.80\n",
            "Epoch    87, train loss 0.040962, train error 0.80,  val loss 0.433805, percent error 9.70\n",
            "Epoch    88, train loss 0.040984, train error 0.80,  val loss 0.431786, percent error 9.60\n",
            "Epoch    89, train loss 0.040471, train error 0.82,  val loss 0.433350, percent error 9.60\n",
            "Epoch    90, train loss 0.040703, train error 0.85,  val loss 0.433311, percent error 9.80\n",
            "Epoch    91, train loss 0.040078, train error 0.88,  val loss 0.432980, percent error 9.90\n",
            "Epoch    92, train loss 0.039964, train error 0.68,  val loss 0.435510, percent error 9.40\n",
            "Epoch    93, train loss 0.039811, train error 0.72,  val loss 0.435649, percent error 9.90\n",
            "Epoch    94, train loss 0.039969, train error 0.82,  val loss 0.434898, percent error 9.90\n",
            "Epoch    95, train loss 0.039565, train error 0.78,  val loss 0.439276, percent error 9.30\n",
            "Epoch    96, train loss 0.039221, train error 0.78,  val loss 0.435781, percent error 9.60\n",
            "Epoch    97, train loss 0.038718, train error 0.82,  val loss 0.438357, percent error 9.90\n",
            "Epoch    98, train loss 0.038817, train error 0.72,  val loss 0.435033, percent error 9.70\n",
            "Epoch    99, train loss 0.038257, train error 0.68,  val loss 0.436726, percent error 9.60\n"
          ]
        },
        {
          "output_type": "display_data",
          "data": {
            "text/plain": [
              "<Figure size 640x480 with 1 Axes>"
            ],
            "image/png": "[encoded data removed]"
          },
          "metadata": {}
        }
      ]
    },
    {
      "cell_type": "markdown",
      "source": [
        "Nótese que el error de entrenamiento (curva roja) disminuye siempre y se acerca a 0, lo que pudiera indicar que el modelo se está ajustando muy bien a los datos de entrenamiento. Sin embargo, existe una diferencia significativa entre el error de entrenamiento (casi 0%) y el error de validación (que se mantiene alrededor del 9.6%), lo que significa que el modelo está memorizando los datos de entrenamiento en lugar de generalizar bien a datos nuevos. Aunque este resultado es consistente, este sobreajuste sugiere que se podría mejorar aún más aplicando técnicas de regularización como dropout o deteniendo el entrenamiento antes.\n",
        "\n",
        "Aunque la *Inicialización de He* es una de las razones por las que el error de entrenamiento pudo disminuir bien desde las primeras épocas, no pudo prevenir el sobreajuste que se observa al final."
      ],
      "metadata": {
        "id": "MiDJvKFVlPeY"
      }
    }
  ]
}